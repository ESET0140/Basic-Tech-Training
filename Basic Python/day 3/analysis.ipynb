{
 "cells": [
  {
   "cell_type": "code",
   "execution_count": null,
   "id": "9a4ec69f",
   "metadata": {},
   "outputs": [],
   "source": []
  },
  {
   "cell_type": "markdown",
   "id": "961bf8a5",
   "metadata": {},
   "source": []
  },
  {
   "cell_type": "markdown",
   "id": "dc079065",
   "metadata": {},
   "source": [
    "## functions\n"
   ]
  },
  {
   "cell_type": "markdown",
   "id": "7bb930a3",
   "metadata": {},
   "source": [
    "function definition\n"
   ]
  },
  {
   "cell_type": "code",
   "execution_count": null,
   "id": "0dd52f24",
   "metadata": {},
   "outputs": [],
   "source": [
    "def student_info(name,age=18):\n",
    "print(name,age)"
   ]
  },
  {
   "cell_type": "markdown",
   "id": "823a1ebf",
   "metadata": {},
   "source": [
    "function calling\n"
   ]
  },
  {
   "cell_type": "code",
   "execution_count": null,
   "id": "7648b36f",
   "metadata": {},
   "outputs": [],
   "source": [
    "student info(\"John\")\n",
    "studentinfo(\"tarak\", 22)"
   ]
  },
  {
   "cell_type": "markdown",
   "id": "868b551d",
   "metadata": {},
   "source": [
    "## Numpy\n"
   ]
  },
  {
   "cell_type": "markdown",
   "id": "488efe37",
   "metadata": {},
   "source": [
    "### Installation"
   ]
  },
  {
   "cell_type": "code",
   "execution_count": 1,
   "id": "03efe65f",
   "metadata": {},
   "outputs": [
    {
     "name": "stdout",
     "output_type": "stream",
     "text": [
      "Requirement already satisfied: numpy in c:\\users\\hp\\appdata\\local\\programs\\python\\python313\\lib\\site-packages (2.3.2)\n"
     ]
    }
   ],
   "source": [
    "!pip install numpy"
   ]
  },
  {
   "cell_type": "markdown",
   "id": "59f8b80a",
   "metadata": {},
   "source": [
    "### import"
   ]
  },
  {
   "cell_type": "code",
   "execution_count": 6,
   "id": "420642eb",
   "metadata": {},
   "outputs": [],
   "source": [
    "import numpy as np"
   ]
  },
  {
   "cell_type": "markdown",
   "id": "f93e5a15",
   "metadata": {},
   "source": [
    "# creating a 1D array"
   ]
  },
  {
   "cell_type": "code",
   "execution_count": 7,
   "id": "9f596ad4",
   "metadata": {},
   "outputs": [],
   "source": [
    "x=np.array([1,2,3])"
   ]
  },
  {
   "cell_type": "code",
   "execution_count": 8,
   "id": "6d6f128c",
   "metadata": {},
   "outputs": [
    {
     "data": {
      "text/plain": [
       "array([1, 2, 3])"
      ]
     },
     "execution_count": 8,
     "metadata": {},
     "output_type": "execute_result"
    }
   ],
   "source": [
    "x"
   ]
  },
  {
   "cell_type": "markdown",
   "id": "f01c989f",
   "metadata": {},
   "source": [
    "### Creating a pandas series from module"
   ]
  },
  {
   "cell_type": "markdown",
   "id": "17857cac",
   "metadata": {},
   "source": [
    "Installation"
   ]
  },
  {
   "cell_type": "code",
   "execution_count": 10,
   "id": "9797e275",
   "metadata": {},
   "outputs": [
    {
     "name": "stdout",
     "output_type": "stream",
     "text": [
      "Requirement already satisfied: pandas in c:\\users\\hp\\appdata\\local\\programs\\python\\python313\\lib\\site-packages (2.3.2)\n",
      "Requirement already satisfied: numpy>=1.26.0 in c:\\users\\hp\\appdata\\local\\programs\\python\\python313\\lib\\site-packages (from pandas) (2.3.2)\n",
      "Requirement already satisfied: python-dateutil>=2.8.2 in c:\\users\\hp\\appdata\\local\\programs\\python\\python313\\lib\\site-packages (from pandas) (2.9.0.post0)\n",
      "Requirement already satisfied: pytz>=2020.1 in c:\\users\\hp\\appdata\\local\\programs\\python\\python313\\lib\\site-packages (from pandas) (2025.2)\n",
      "Requirement already satisfied: tzdata>=2022.7 in c:\\users\\hp\\appdata\\local\\programs\\python\\python313\\lib\\site-packages (from pandas) (2025.2)\n",
      "Requirement already satisfied: six>=1.5 in c:\\users\\hp\\appdata\\local\\programs\\python\\python313\\lib\\site-packages (from python-dateutil>=2.8.2->pandas) (1.17.0)\n"
     ]
    }
   ],
   "source": [
    "!pip install pandas"
   ]
  },
  {
   "cell_type": "markdown",
   "id": "249eb506",
   "metadata": {},
   "source": [
    "Import PAnda"
   ]
  },
  {
   "cell_type": "code",
   "execution_count": 11,
   "id": "14458db2",
   "metadata": {},
   "outputs": [],
   "source": [
    "import pandas as pd"
   ]
  },
  {
   "cell_type": "code",
   "execution_count": 14,
   "id": "a7830778",
   "metadata": {},
   "outputs": [],
   "source": [
    "s= pd.Series([10,20,30,40], name=\"MyNumbers\")"
   ]
  },
  {
   "cell_type": "markdown",
   "id": "ce0e6db3",
   "metadata": {},
   "source": [
    "you can print without writing print"
   ]
  },
  {
   "cell_type": "code",
   "execution_count": 15,
   "id": "0739f668",
   "metadata": {},
   "outputs": [
    {
     "data": {
      "text/plain": [
       "0    10\n",
       "1    20\n",
       "2    30\n",
       "3    40\n",
       "Name: MyNumbers, dtype: int64"
      ]
     },
     "execution_count": 15,
     "metadata": {},
     "output_type": "execute_result"
    }
   ],
   "source": [
    "s"
   ]
  },
  {
   "cell_type": "code",
   "execution_count": 16,
   "id": "6dbc9a1d",
   "metadata": {},
   "outputs": [
    {
     "name": "stdout",
     "output_type": "stream",
     "text": [
      "Pandas Series:\n",
      "0    10\n",
      "1    20\n",
      "2    30\n",
      "3    40\n",
      "Name: MyNumbers, dtype: int64\n",
      "Types of Series:\n",
      "0    10\n",
      "1    20\n",
      "2    30\n",
      "3    40\n",
      "Name: MyNumbers, dtype: int64\n"
     ]
    }
   ],
   "source": [
    "print(f\"Pandas Series:\\n{s}\")\n",
    "print(f\"Types of Series:\\n{s}\")\n"
   ]
  },
  {
   "cell_type": "code",
   "execution_count": 18,
   "id": "b3e6fa35",
   "metadata": {},
   "outputs": [],
   "source": [
    "data = {\n",
    "    'Name': ['Alice','Bob','Charlie','David'],\n",
    "    'Age':[25,30,35,28],\n",
    "    'City':['new york', 'america', 'africa','china'],\n",
    "    'Salary':[70000, 85000,95000,7200]\n",
    "}\n"
   ]
  },
  {
   "cell_type": "code",
   "execution_count": 19,
   "id": "1fec8f59",
   "metadata": {},
   "outputs": [
    {
     "name": "stdout",
     "output_type": "stream",
     "text": [
      "\n",
      "Pandas data Frame:\n",
      "      Name  Age      City  Salary\n",
      "0    Alice   25  new york   70000\n",
      "1      Bob   30   america   85000\n",
      "2  Charlie   35    africa   95000\n",
      "3    David   28     china    7200\n"
     ]
    }
   ],
   "source": [
    "df= pd.DataFrame(data)\n",
    "print(f\"\\nPandas data Frame:\\n{df}\")"
   ]
  }
 ],
 "metadata": {
  "kernelspec": {
   "display_name": "Python 3",
   "language": "python",
   "name": "python3"
  },
  "language_info": {
   "codemirror_mode": {
    "name": "ipython",
    "version": 3
   },
   "file_extension": ".py",
   "mimetype": "text/x-python",
   "name": "python",
   "nbconvert_exporter": "python",
   "pygments_lexer": "ipython3",
   "version": "3.13.7"
  }
 },
 "nbformat": 4,
 "nbformat_minor": 5
}
